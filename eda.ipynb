{
 "cells": [
  {
   "cell_type": "code",
   "execution_count": 53,
   "metadata": {},
   "outputs": [],
   "source": [
    "import pandas as pd "
   ]
  },
  {
   "cell_type": "code",
   "execution_count": 54,
   "metadata": {},
   "outputs": [],
   "source": [
    "df = pd.read_csv('../data/tickets_pv_clean.csv', sep=';')"
   ]
  },
  {
   "cell_type": "code",
   "execution_count": 55,
   "metadata": {},
   "outputs": [
    {
     "data": {
      "text/html": [
       "<div>\n",
       "<style scoped>\n",
       "    .dataframe tbody tr th:only-of-type {\n",
       "        vertical-align: middle;\n",
       "    }\n",
       "\n",
       "    .dataframe tbody tr th {\n",
       "        vertical-align: top;\n",
       "    }\n",
       "\n",
       "    .dataframe thead th {\n",
       "        text-align: right;\n",
       "    }\n",
       "</style>\n",
       "<table border=\"1\" class=\"dataframe\">\n",
       "  <thead>\n",
       "    <tr style=\"text-align: right;\">\n",
       "      <th></th>\n",
       "      <th>Produit</th>\n",
       "      <th>Catégorie</th>\n",
       "    </tr>\n",
       "  </thead>\n",
       "  <tbody>\n",
       "    <tr>\n",
       "      <th>0</th>\n",
       "      <td>POMME GOLDEN 1KG</td>\n",
       "      <td>Fruits &amp; Légumes</td>\n",
       "    </tr>\n",
       "    <tr>\n",
       "      <th>1</th>\n",
       "      <td>COCA COLA 15L</td>\n",
       "      <td>Boissons</td>\n",
       "    </tr>\n",
       "    <tr>\n",
       "      <th>2</th>\n",
       "      <td>SHAMPOING DOP 250ML</td>\n",
       "      <td>Hygiène</td>\n",
       "    </tr>\n",
       "    <tr>\n",
       "      <th>3</th>\n",
       "      <td>BANANE 1KG</td>\n",
       "      <td>Fruits &amp; Légumes</td>\n",
       "    </tr>\n",
       "    <tr>\n",
       "      <th>4</th>\n",
       "      <td>ORANGE JUS 1L</td>\n",
       "      <td>Boissons</td>\n",
       "    </tr>\n",
       "    <tr>\n",
       "      <th>...</th>\n",
       "      <td>...</td>\n",
       "      <td>...</td>\n",
       "    </tr>\n",
       "    <tr>\n",
       "      <th>99</th>\n",
       "      <td>ROTTI DE DINDE LOUE X2</td>\n",
       "      <td>Viandes &amp; Charcuterie</td>\n",
       "    </tr>\n",
       "    <tr>\n",
       "      <th>100</th>\n",
       "      <td>FLEURY JBON LE SUP SC 4TR</td>\n",
       "      <td>Viandes &amp; Charcuterie</td>\n",
       "    </tr>\n",
       "    <tr>\n",
       "      <th>101</th>\n",
       "      <td>GOUDALE ANCIEN</td>\n",
       "      <td>Produits laitiers</td>\n",
       "    </tr>\n",
       "    <tr>\n",
       "      <th>102</th>\n",
       "      <td>CAROTTES PAYSAN</td>\n",
       "      <td>Fruits &amp; Légumes</td>\n",
       "    </tr>\n",
       "    <tr>\n",
       "      <th>103</th>\n",
       "      <td>POMME DE TERRE BLANCHE</td>\n",
       "      <td>Fruits &amp; Légumes</td>\n",
       "    </tr>\n",
       "  </tbody>\n",
       "</table>\n",
       "<p>104 rows × 2 columns</p>\n",
       "</div>"
      ],
      "text/plain": [
       "                       Produit                Catégorie\n",
       "0             POMME GOLDEN 1KG         Fruits & Légumes\n",
       "1                COCA COLA 15L                 Boissons\n",
       "2          SHAMPOING DOP 250ML                  Hygiène\n",
       "3                   BANANE 1KG         Fruits & Légumes\n",
       "4                ORANGE JUS 1L                 Boissons\n",
       "..                         ...                      ...\n",
       "99      ROTTI DE DINDE LOUE X2   Viandes & Charcuterie \n",
       "100  FLEURY JBON LE SUP SC 4TR    Viandes & Charcuterie\n",
       "101             GOUDALE ANCIEN        Produits laitiers\n",
       "102            CAROTTES PAYSAN         Fruits & Légumes\n",
       "103     POMME DE TERRE BLANCHE        Fruits & Légumes \n",
       "\n",
       "[104 rows x 2 columns]"
      ]
     },
     "execution_count": 55,
     "metadata": {},
     "output_type": "execute_result"
    }
   ],
   "source": [
    "df"
   ]
  },
  {
   "cell_type": "code",
   "execution_count": 56,
   "metadata": {},
   "outputs": [],
   "source": [
    "df[\"Catégorie\"] = df['Catégorie'].str.strip()"
   ]
  },
  {
   "cell_type": "code",
   "execution_count": 57,
   "metadata": {},
   "outputs": [
    {
     "data": {
      "text/plain": [
       "Catégorie\n",
       "Fruits & Légumes            21\n",
       "Viandes & Charcuterie       18\n",
       "Épicerie sucrée             11\n",
       "Produits laitiers           11\n",
       "Poisson & Fruits de mer      8\n",
       "Boulangerie & Pâtisserie     8\n",
       "Entretien / Ménage           7\n",
       "Boissons                     6\n",
       "Épicerie salée               6\n",
       "Hygiène                      3\n",
       "Surgelés                     3\n",
       "Maison & Loisirs             2\n",
       "Name: count, dtype: int64"
      ]
     },
     "execution_count": 57,
     "metadata": {},
     "output_type": "execute_result"
    }
   ],
   "source": [
    "df['Catégorie'].value_counts()"
   ]
  },
  {
   "cell_type": "code",
   "execution_count": 59,
   "metadata": {},
   "outputs": [
    {
     "data": {
      "text/html": [
       "<div>\n",
       "<style scoped>\n",
       "    .dataframe tbody tr th:only-of-type {\n",
       "        vertical-align: middle;\n",
       "    }\n",
       "\n",
       "    .dataframe tbody tr th {\n",
       "        vertical-align: top;\n",
       "    }\n",
       "\n",
       "    .dataframe thead th {\n",
       "        text-align: right;\n",
       "    }\n",
       "</style>\n",
       "<table border=\"1\" class=\"dataframe\">\n",
       "  <thead>\n",
       "    <tr style=\"text-align: right;\">\n",
       "      <th></th>\n",
       "      <th>Produit</th>\n",
       "      <th>Categories_OFF</th>\n",
       "    </tr>\n",
       "  </thead>\n",
       "  <tbody>\n",
       "    <tr>\n",
       "      <th>0</th>\n",
       "      <td>ORANGE JUICE</td>\n",
       "      <td>beverages-and-beverages-preparations</td>\n",
       "    </tr>\n",
       "    <tr>\n",
       "      <th>1</th>\n",
       "      <td>TONIK</td>\n",
       "      <td>plant-based-foods-and-beverages</td>\n",
       "    </tr>\n",
       "    <tr>\n",
       "      <th>2</th>\n",
       "      <td>CONFITURE DE FRAISE</td>\n",
       "      <td>plant-based-foods-and-beverages</td>\n",
       "    </tr>\n",
       "    <tr>\n",
       "      <th>3</th>\n",
       "      <td>SOURDOUGH WHITE CIABATTIN BREAD</td>\n",
       "      <td>plant-based-foods-and-beverages</td>\n",
       "    </tr>\n",
       "    <tr>\n",
       "      <th>4</th>\n",
       "      <td>GERÖSTETE MANDEL OHNE ZUCKER</td>\n",
       "      <td>beverages-and-beverages-preparations</td>\n",
       "    </tr>\n",
       "    <tr>\n",
       "      <th>...</th>\n",
       "      <td>...</td>\n",
       "      <td>...</td>\n",
       "    </tr>\n",
       "    <tr>\n",
       "      <th>1830</th>\n",
       "      <td>AL AMBAR THÉ VERT EN GRAINS</td>\n",
       "      <td>beverages-and-beverages-preparations</td>\n",
       "    </tr>\n",
       "    <tr>\n",
       "      <th>1831</th>\n",
       "      <td>THÉ VERT GLACÉ SAVEUR CITRON VERT &amp; MENTHE</td>\n",
       "      <td>plant-based-foods-and-beverages</td>\n",
       "    </tr>\n",
       "    <tr>\n",
       "      <th>1832</th>\n",
       "      <td>THÉ VERT MENTHE INTENSE MENTHE VERTE &amp; MENTHE ...</td>\n",
       "      <td>beverages-and-beverages-preparations</td>\n",
       "    </tr>\n",
       "    <tr>\n",
       "      <th>1833</th>\n",
       "      <td>THÉ VERT</td>\n",
       "      <td>plant-based-foods-and-beverages</td>\n",
       "    </tr>\n",
       "    <tr>\n",
       "      <th>1834</th>\n",
       "      <td>INFUSION À FROID DETOX CRANBERRY FRAMBOISE HIB...</td>\n",
       "      <td>beverages-and-beverages-preparations</td>\n",
       "    </tr>\n",
       "  </tbody>\n",
       "</table>\n",
       "<p>1835 rows × 2 columns</p>\n",
       "</div>"
      ],
      "text/plain": [
       "                                                Produit  \\\n",
       "0                                          ORANGE JUICE   \n",
       "1                                                 TONIK   \n",
       "2                                   CONFITURE DE FRAISE   \n",
       "3                       SOURDOUGH WHITE CIABATTIN BREAD   \n",
       "4                          GERÖSTETE MANDEL OHNE ZUCKER   \n",
       "...                                                 ...   \n",
       "1830                        AL AMBAR THÉ VERT EN GRAINS   \n",
       "1831         THÉ VERT GLACÉ SAVEUR CITRON VERT & MENTHE   \n",
       "1832  THÉ VERT MENTHE INTENSE MENTHE VERTE & MENTHE ...   \n",
       "1833                                           THÉ VERT   \n",
       "1834  INFUSION À FROID DETOX CRANBERRY FRAMBOISE HIB...   \n",
       "\n",
       "                            Categories_OFF  \n",
       "0     beverages-and-beverages-preparations  \n",
       "1          plant-based-foods-and-beverages  \n",
       "2          plant-based-foods-and-beverages  \n",
       "3          plant-based-foods-and-beverages  \n",
       "4     beverages-and-beverages-preparations  \n",
       "...                                    ...  \n",
       "1830  beverages-and-beverages-preparations  \n",
       "1831       plant-based-foods-and-beverages  \n",
       "1832  beverages-and-beverages-preparations  \n",
       "1833       plant-based-foods-and-beverages  \n",
       "1834  beverages-and-beverages-preparations  \n",
       "\n",
       "[1835 rows x 2 columns]"
      ]
     },
     "execution_count": 59,
     "metadata": {},
     "output_type": "execute_result"
    }
   ],
   "source": [
    "df1 = pd.read_csv('../data/tickets_nettoye.csv', sep=';')\n",
    "df1"
   ]
  },
  {
   "cell_type": "code",
   "execution_count": 61,
   "metadata": {},
   "outputs": [
    {
     "data": {
      "text/plain": [
       "Categories_OFF\n",
       "plant-based-foods-and-beverages         719\n",
       "snacks                                  233\n",
       "beverages-and-beverages-preparations    224\n",
       "dairies                                 167\n",
       "meats-and-their-products                136\n",
       "breakfasts                               89\n",
       "seafood                                  81\n",
       "condiments                               65\n",
       "desserts                                 36\n",
       "meals                                    27\n",
       "beverages                                24\n",
       "sweeteners                                9\n",
       "frozen-foods                              8\n",
       "fermented-foods                           5\n",
       "undefined                                 5\n",
       "canned-foods                              2\n",
       "spreads                                   1\n",
       "food-additives                            1\n",
       "dried-products                            1\n",
       "dietary-supplements                       1\n",
       "fats                                      1\n",
       "Name: count, dtype: int64"
      ]
     },
     "execution_count": 61,
     "metadata": {},
     "output_type": "execute_result"
    }
   ],
   "source": [
    "df1['Categories_OFF'].value_counts()"
   ]
  },
  {
   "cell_type": "code",
   "execution_count": 66,
   "metadata": {},
   "outputs": [
    {
     "data": {
      "text/plain": [
       "Categories_OFF\n",
       "Fruits & Légumes           743\n",
       "Épicerie sucrée            369\n",
       "Boissons                   224\n",
       "Produits laitiers          167\n",
       "Viandes & Charcuterie      136\n",
       "Épicerie salée              95\n",
       "Poisson & Fruits de mer     81\n",
       "Surgelés                     8\n",
       "Ferment                      5\n",
       "Entretien / Ménage           5\n",
       "Additif                      1\n",
       "Hygiène                      1\n",
       "Name: count, dtype: int64"
      ]
     },
     "execution_count": 66,
     "metadata": {},
     "output_type": "execute_result"
    }
   ],
   "source": [
    "df2 = pd.read_csv('../data/tickets_categorie_final.csv', sep=';')\n",
    "df2['Categories_OFF'].value_counts()"
   ]
  },
  {
   "cell_type": "code",
   "execution_count": 67,
   "metadata": {},
   "outputs": [
    {
     "data": {
      "text/plain": [
       "Categories_OFF\n",
       "en:plant-based-foods-and-beverages         728\n",
       "en:snacks                                  233\n",
       "en:beverages-and-beverages-preparations    230\n",
       "en:dairies                                 167\n",
       "en:meats-and-their-products                136\n",
       "en:breakfasts                               89\n",
       "en:seafood                                  81\n",
       "en:condiments                               65\n",
       "en:desserts                                 38\n",
       "en:meals                                    27\n",
       "en:beverages                                24\n",
       "en:sweeteners                                9\n",
       "en:frozen-foods                              8\n",
       "en:fermented-foods                           5\n",
       "en:undefined                                 5\n",
       "en:canned-foods                              2\n",
       "en:spreads                                   1\n",
       "en:food-additives                            1\n",
       "en:dried-products                            1\n",
       "en:dietary-supplements                       1\n",
       "en:fats                                      1\n",
       "Name: count, dtype: int64"
      ]
     },
     "execution_count": 67,
     "metadata": {},
     "output_type": "execute_result"
    }
   ],
   "source": [
    "df3 = pd.read_csv('../data/produits_openfoodfacts_brut.csv', sep=';')\n",
    "df3['Categories_OFF'].value_counts()"
   ]
  }
 ],
 "metadata": {
  "kernelspec": {
   "display_name": "venv",
   "language": "python",
   "name": "python3"
  },
  "language_info": {
   "codemirror_mode": {
    "name": "ipython",
    "version": 3
   },
   "file_extension": ".py",
   "mimetype": "text/x-python",
   "name": "python",
   "nbconvert_exporter": "python",
   "pygments_lexer": "ipython3",
   "version": "3.12.7"
  }
 },
 "nbformat": 4,
 "nbformat_minor": 2
}
